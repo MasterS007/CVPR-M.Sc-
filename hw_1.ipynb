{
  "nbformat": 4,
  "nbformat_minor": 0,
  "metadata": {
    "colab": {
      "name": "hw_1.ipynb",
      "provenance": [],
      "collapsed_sections": []
    },
    "kernelspec": {
      "name": "python3",
      "display_name": "Python 3"
    },
    "language_info": {
      "name": "python"
    }
  },
  "cells": [
    {
      "cell_type": "code",
      "source": [
        "import matplotlib.pyplot as plt\n",
        "import numpy as np\n",
        "import random\n",
        "import math\n",
        "from IPython import display\n",
        "import pandas as pd\n",
        "\n"
      ],
      "metadata": {
        "id": "49wrKdYUQ56y"
      },
      "execution_count": 13,
      "outputs": []
    },
    {
      "cell_type": "code",
      "execution_count": 16,
      "metadata": {
        "colab": {
          "base_uri": "https://localhost:8080/",
          "height": 206
        },
        "id": "bHW_3YujflVB",
        "outputId": "24719f39-4951-41eb-afa5-64b3baf6c1d0"
      },
      "outputs": [
        {
          "output_type": "execute_result",
          "data": {
            "text/html": [
              "\n",
              "  <div id=\"df-e662cc95-a81a-4e06-881d-8c424a759d17\">\n",
              "    <div class=\"colab-df-container\">\n",
              "      <div>\n",
              "<style scoped>\n",
              "    .dataframe tbody tr th:only-of-type {\n",
              "        vertical-align: middle;\n",
              "    }\n",
              "\n",
              "    .dataframe tbody tr th {\n",
              "        vertical-align: top;\n",
              "    }\n",
              "\n",
              "    .dataframe thead th {\n",
              "        text-align: right;\n",
              "    }\n",
              "</style>\n",
              "<table border=\"1\" class=\"dataframe\">\n",
              "  <thead>\n",
              "    <tr style=\"text-align: right;\">\n",
              "      <th></th>\n",
              "      <th>X1</th>\n",
              "      <th>X2</th>\n",
              "      <th>Y</th>\n",
              "    </tr>\n",
              "  </thead>\n",
              "  <tbody>\n",
              "    <tr>\n",
              "      <th>0</th>\n",
              "      <td>76</td>\n",
              "      <td>51</td>\n",
              "      <td>0</td>\n",
              "    </tr>\n",
              "    <tr>\n",
              "      <th>1</th>\n",
              "      <td>34</td>\n",
              "      <td>59</td>\n",
              "      <td>1</td>\n",
              "    </tr>\n",
              "    <tr>\n",
              "      <th>2</th>\n",
              "      <td>21</td>\n",
              "      <td>65</td>\n",
              "      <td>1</td>\n",
              "    </tr>\n",
              "    <tr>\n",
              "      <th>3</th>\n",
              "      <td>65</td>\n",
              "      <td>25</td>\n",
              "      <td>1</td>\n",
              "    </tr>\n",
              "    <tr>\n",
              "      <th>4</th>\n",
              "      <td>59</td>\n",
              "      <td>97</td>\n",
              "      <td>0</td>\n",
              "    </tr>\n",
              "  </tbody>\n",
              "</table>\n",
              "</div>\n",
              "      <button class=\"colab-df-convert\" onclick=\"convertToInteractive('df-e662cc95-a81a-4e06-881d-8c424a759d17')\"\n",
              "              title=\"Convert this dataframe to an interactive table.\"\n",
              "              style=\"display:none;\">\n",
              "        \n",
              "  <svg xmlns=\"http://www.w3.org/2000/svg\" height=\"24px\"viewBox=\"0 0 24 24\"\n",
              "       width=\"24px\">\n",
              "    <path d=\"M0 0h24v24H0V0z\" fill=\"none\"/>\n",
              "    <path d=\"M18.56 5.44l.94 2.06.94-2.06 2.06-.94-2.06-.94-.94-2.06-.94 2.06-2.06.94zm-11 1L8.5 8.5l.94-2.06 2.06-.94-2.06-.94L8.5 2.5l-.94 2.06-2.06.94zm10 10l.94 2.06.94-2.06 2.06-.94-2.06-.94-.94-2.06-.94 2.06-2.06.94z\"/><path d=\"M17.41 7.96l-1.37-1.37c-.4-.4-.92-.59-1.43-.59-.52 0-1.04.2-1.43.59L10.3 9.45l-7.72 7.72c-.78.78-.78 2.05 0 2.83L4 21.41c.39.39.9.59 1.41.59.51 0 1.02-.2 1.41-.59l7.78-7.78 2.81-2.81c.8-.78.8-2.07 0-2.86zM5.41 20L4 18.59l7.72-7.72 1.47 1.35L5.41 20z\"/>\n",
              "  </svg>\n",
              "      </button>\n",
              "      \n",
              "  <style>\n",
              "    .colab-df-container {\n",
              "      display:flex;\n",
              "      flex-wrap:wrap;\n",
              "      gap: 12px;\n",
              "    }\n",
              "\n",
              "    .colab-df-convert {\n",
              "      background-color: #E8F0FE;\n",
              "      border: none;\n",
              "      border-radius: 50%;\n",
              "      cursor: pointer;\n",
              "      display: none;\n",
              "      fill: #1967D2;\n",
              "      height: 32px;\n",
              "      padding: 0 0 0 0;\n",
              "      width: 32px;\n",
              "    }\n",
              "\n",
              "    .colab-df-convert:hover {\n",
              "      background-color: #E2EBFA;\n",
              "      box-shadow: 0px 1px 2px rgba(60, 64, 67, 0.3), 0px 1px 3px 1px rgba(60, 64, 67, 0.15);\n",
              "      fill: #174EA6;\n",
              "    }\n",
              "\n",
              "    [theme=dark] .colab-df-convert {\n",
              "      background-color: #3B4455;\n",
              "      fill: #D2E3FC;\n",
              "    }\n",
              "\n",
              "    [theme=dark] .colab-df-convert:hover {\n",
              "      background-color: #434B5C;\n",
              "      box-shadow: 0px 1px 3px 1px rgba(0, 0, 0, 0.15);\n",
              "      filter: drop-shadow(0px 1px 2px rgba(0, 0, 0, 0.3));\n",
              "      fill: #FFFFFF;\n",
              "    }\n",
              "  </style>\n",
              "\n",
              "      <script>\n",
              "        const buttonEl =\n",
              "          document.querySelector('#df-e662cc95-a81a-4e06-881d-8c424a759d17 button.colab-df-convert');\n",
              "        buttonEl.style.display =\n",
              "          google.colab.kernel.accessAllowed ? 'block' : 'none';\n",
              "\n",
              "        async function convertToInteractive(key) {\n",
              "          const element = document.querySelector('#df-e662cc95-a81a-4e06-881d-8c424a759d17');\n",
              "          const dataTable =\n",
              "            await google.colab.kernel.invokeFunction('convertToInteractive',\n",
              "                                                     [key], {});\n",
              "          if (!dataTable) return;\n",
              "\n",
              "          const docLinkHtml = 'Like what you see? Visit the ' +\n",
              "            '<a target=\"_blank\" href=https://colab.research.google.com/notebooks/data_table.ipynb>data table notebook</a>'\n",
              "            + ' to learn more about interactive tables.';\n",
              "          element.innerHTML = '';\n",
              "          dataTable['output_type'] = 'display_data';\n",
              "          await google.colab.output.renderOutput(dataTable, element);\n",
              "          const docLink = document.createElement('div');\n",
              "          docLink.innerHTML = docLinkHtml;\n",
              "          element.appendChild(docLink);\n",
              "        }\n",
              "      </script>\n",
              "    </div>\n",
              "  </div>\n",
              "  "
            ],
            "text/plain": [
              "   X1  X2  Y\n",
              "0  76  51  0\n",
              "1  34  59  1\n",
              "2  21  65  1\n",
              "3  65  25  1\n",
              "4  59  97  0"
            ]
          },
          "metadata": {},
          "execution_count": 16
        }
      ],
      "source": [
        "df = pd.read_csv('/content/first_plot.csv')\n",
        "df.head()"
      ]
    },
    {
      "cell_type": "code",
      "source": [
        "import matplotlib.pyplot as plt\n",
        "import numpy as np\n",
        "import random\n",
        "import math\n",
        "from IPython import display\n",
        "\n",
        "X1 = df[\"X1\"].values.tolist()\n",
        "X2 = df[\"X2\"].values.tolist()\n",
        "Y = df[\"Y\"].values.tolist()\n",
        "\n",
        "for i in range(len(Y)):\n",
        "    if Y[i] == 0:\n",
        "        plt.plot(X1[i], X2[i], \"ro\")\n",
        "    else:\n",
        "        plt.plot(X1[i], X2[i], \"bo\")"
      ],
      "metadata": {
        "colab": {
          "base_uri": "https://localhost:8080/",
          "height": 265
        },
        "id": "t2PkTFENhGYp",
        "outputId": "e155ae5b-7d40-41a4-aac5-ca7fd9d71db0"
      },
      "execution_count": 17,
      "outputs": [
        {
          "output_type": "display_data",
          "data": {
            "image/png": "[encoded data removed]",
            "text/plain": [
              "<Figure size 432x288 with 1 Axes>"
            ]
          },
          "metadata": {
            "needs_background": "light"
          }
        }
      ]
    },
    {
      "cell_type": "code",
      "source": [
        "W = [random.random(), random.random()]\n",
        "b = random.random()\n",
        "\n",
        "lr = 0.05\n",
        "theta=0.5\n",
        "\n",
        "epoch = 0\n",
        "count = 0\n",
        "\n",
        "loss = []\n",
        "while count < len(X1):\n",
        "    \n",
        "    total_error = 0\n",
        "    for i in range(len(X1)):\n",
        "        weighted_sum = W[0]*X1[i] + W[1]*X2[i] + b\n",
        "        pred = 0\n",
        "        if weighted_sum > theta:\n",
        "            pred = 1\n",
        "\n",
        "        error =  Y[i] - pred\n",
        "        if error != 0:\n",
        "            count = 0\n",
        "            total_error += math.sqrt(error**2)\n",
        "            \n",
        "            W[0] += lr * error * X1[i]\n",
        "            W[1] += lr * error * X2[i]\n",
        "            b    += lr * error\n",
        "        else:\n",
        "            count += 1\n",
        "    \n",
        "    loss.append(1/len(X1)*total_error)\n",
        "   \n",
        "    plt.figure(figsize=(20,5))\n",
        "  \n",
        "    display.clear_output(wait=True)\n",
        "    plt.subplot(1,2,1)\n",
        "\n",
        "    for i in range(len(Y)):\n",
        "        if Y[i] == 0:\n",
        "            plt.plot(X1[i], X2[i], \"bo\")\n",
        "        else:\n",
        "            plt.plot(X1[i], X2[i], \"ro\")\n",
        "\n",
        "        plt.xlim([-10, 110])\n",
        "        plt.ylim([-10, 110])\n",
        "\n",
        "        xintr=(theta-b)/W[0]\n",
        "        yintr=(theta-b)/W[1]\n",
        "\n",
        "        slope = -yintr/xintr\n",
        "        xx = plt.xlim()\n",
        "#                 print(xx)\n",
        "        yeq = []\n",
        "        for x in xx:\n",
        "            yeq.append(slope*x+yintr)\n",
        "        plt.plot(xx,yeq, 'b-')\n",
        "\n",
        "    plt.title(f\"Epoch: {epoch} Loss: {total_error}\")\n",
        "\n",
        "    plt.subplot(1,2,2)\n",
        "    plt.plot(loss, alpha=0.3)\n",
        "    plt.show()\n",
        "            \n",
        "    print(f\"Epoch: {epoch} Loss: {loss[-1]}\")\n",
        "    epoch += 1\n",
        "\n",
        "   \n",
        "\n"
      ],
      "metadata": {
        "colab": {
          "base_uri": "https://localhost:8080/",
          "height": 272
        },
        "id": "ZdqTfoodiaF7",
        "outputId": "264b1bfb-bb18-43ee-b83b-b0a5aaac5441"
      },
      "execution_count": 21,
      "outputs": [
        {
          "output_type": "display_data",
          "data": {
            "image/png": "[encoded data removed]",
            "text/plain": [
              "<Figure size 1440x360 with 2 Axes>"
            ]
          },
          "metadata": {
            "needs_background": "light"
          }
        },
        {
          "output_type": "stream",
          "name": "stdout",
          "text": [
            "Epoch: 302 Loss: 0.0\n"
          ]
        }
      ]
    },
    {
      "cell_type": "markdown",
      "source": [
        "For the above graph learning rate is taken 0.15. Only for 240 epochs we got the outcome where loss is 0. \n",
        "But when learning rate was 0.5, it took 853 epochs to get the loss 0. When the learning rate was taken 0.05, only for 302 epochs we got the outcome where loss is 0."
      ],
      "metadata": {
        "id": "Xk-EoNx-Hx9d"
      }
    },
    {
      "cell_type": "markdown",
      "source": [
        "\n",
        "---\n",
        "\n"
      ],
      "metadata": {
        "id": "F7dvaSjccUVr"
      }
    },
    {
      "cell_type": "code",
      "source": [
        "scg = pd.read_csv('/content/second_plot_5050.csv')\n",
        "scg.head()"
      ],
      "metadata": {
        "colab": {
          "base_uri": "https://localhost:8080/",
          "height": 206
        },
        "id": "Q23v3BCk2xk_",
        "outputId": "839bc0cc-3353-4b07-e9f5-8c9f782abd75"
      },
      "execution_count": null,
      "outputs": [
        {
          "output_type": "execute_result",
          "data": {
            "text/html": [
              "\n",
              "  <div id=\"df-04d65b9d-13f5-4d31-94b3-7157b83e3518\">\n",
              "    <div class=\"colab-df-container\">\n",
              "      <div>\n",
              "<style scoped>\n",
              "    .dataframe tbody tr th:only-of-type {\n",
              "        vertical-align: middle;\n",
              "    }\n",
              "\n",
              "    .dataframe tbody tr th {\n",
              "        vertical-align: top;\n",
              "    }\n",
              "\n",
              "    .dataframe thead th {\n",
              "        text-align: right;\n",
              "    }\n",
              "</style>\n",
              "<table border=\"1\" class=\"dataframe\">\n",
              "  <thead>\n",
              "    <tr style=\"text-align: right;\">\n",
              "      <th></th>\n",
              "      <th>X1</th>\n",
              "      <th>X2</th>\n",
              "      <th>Y</th>\n",
              "    </tr>\n",
              "  </thead>\n",
              "  <tbody>\n",
              "    <tr>\n",
              "      <th>0</th>\n",
              "      <td>40</td>\n",
              "      <td>89</td>\n",
              "      <td>0</td>\n",
              "    </tr>\n",
              "    <tr>\n",
              "      <th>1</th>\n",
              "      <td>1</td>\n",
              "      <td>27</td>\n",
              "      <td>0</td>\n",
              "    </tr>\n",
              "    <tr>\n",
              "      <th>2</th>\n",
              "      <td>60</td>\n",
              "      <td>63</td>\n",
              "      <td>1</td>\n",
              "    </tr>\n",
              "    <tr>\n",
              "      <th>3</th>\n",
              "      <td>79</td>\n",
              "      <td>52</td>\n",
              "      <td>1</td>\n",
              "    </tr>\n",
              "    <tr>\n",
              "      <th>4</th>\n",
              "      <td>88</td>\n",
              "      <td>63</td>\n",
              "      <td>1</td>\n",
              "    </tr>\n",
              "  </tbody>\n",
              "</table>\n",
              "</div>\n",
              "      <button class=\"colab-df-convert\" onclick=\"convertToInteractive('df-04d65b9d-13f5-4d31-94b3-7157b83e3518')\"\n",
              "              title=\"Convert this dataframe to an interactive table.\"\n",
              "              style=\"display:none;\">\n",
              "        \n",
              "  <svg xmlns=\"http://www.w3.org/2000/svg\" height=\"24px\"viewBox=\"0 0 24 24\"\n",
              "       width=\"24px\">\n",
              "    <path d=\"M0 0h24v24H0V0z\" fill=\"none\"/>\n",
              "    <path d=\"M18.56 5.44l.94 2.06.94-2.06 2.06-.94-2.06-.94-.94-2.06-.94 2.06-2.06.94zm-11 1L8.5 8.5l.94-2.06 2.06-.94-2.06-.94L8.5 2.5l-.94 2.06-2.06.94zm10 10l.94 2.06.94-2.06 2.06-.94-2.06-.94-.94-2.06-.94 2.06-2.06.94z\"/><path d=\"M17.41 7.96l-1.37-1.37c-.4-.4-.92-.59-1.43-.59-.52 0-1.04.2-1.43.59L10.3 9.45l-7.72 7.72c-.78.78-.78 2.05 0 2.83L4 21.41c.39.39.9.59 1.41.59.51 0 1.02-.2 1.41-.59l7.78-7.78 2.81-2.81c.8-.78.8-2.07 0-2.86zM5.41 20L4 18.59l7.72-7.72 1.47 1.35L5.41 20z\"/>\n",
              "  </svg>\n",
              "      </button>\n",
              "      \n",
              "  <style>\n",
              "    .colab-df-container {\n",
              "      display:flex;\n",
              "      flex-wrap:wrap;\n",
              "      gap: 12px;\n",
              "    }\n",
              "\n",
              "    .colab-df-convert {\n",
              "      background-color: #E8F0FE;\n",
              "      border: none;\n",
              "      border-radius: 50%;\n",
              "      cursor: pointer;\n",
              "      display: none;\n",
              "      fill: #1967D2;\n",
              "      height: 32px;\n",
              "      padding: 0 0 0 0;\n",
              "      width: 32px;\n",
              "    }\n",
              "\n",
              "    .colab-df-convert:hover {\n",
              "      background-color: #E2EBFA;\n",
              "      box-shadow: 0px 1px 2px rgba(60, 64, 67, 0.3), 0px 1px 3px 1px rgba(60, 64, 67, 0.15);\n",
              "      fill: #174EA6;\n",
              "    }\n",
              "\n",
              "    [theme=dark] .colab-df-convert {\n",
              "      background-color: #3B4455;\n",
              "      fill: #D2E3FC;\n",
              "    }\n",
              "\n",
              "    [theme=dark] .colab-df-convert:hover {\n",
              "      background-color: #434B5C;\n",
              "      box-shadow: 0px 1px 3px 1px rgba(0, 0, 0, 0.15);\n",
              "      filter: drop-shadow(0px 1px 2px rgba(0, 0, 0, 0.3));\n",
              "      fill: #FFFFFF;\n",
              "    }\n",
              "  </style>\n",
              "\n",
              "      <script>\n",
              "        const buttonEl =\n",
              "          document.querySelector('#df-04d65b9d-13f5-4d31-94b3-7157b83e3518 button.colab-df-convert');\n",
              "        buttonEl.style.display =\n",
              "          google.colab.kernel.accessAllowed ? 'block' : 'none';\n",
              "\n",
              "        async function convertToInteractive(key) {\n",
              "          const element = document.querySelector('#df-04d65b9d-13f5-4d31-94b3-7157b83e3518');\n",
              "          const dataTable =\n",
              "            await google.colab.kernel.invokeFunction('convertToInteractive',\n",
              "                                                     [key], {});\n",
              "          if (!dataTable) return;\n",
              "\n",
              "          const docLinkHtml = 'Like what you see? Visit the ' +\n",
              "            '<a target=\"_blank\" href=https://colab.research.google.com/notebooks/data_table.ipynb>data table notebook</a>'\n",
              "            + ' to learn more about interactive tables.';\n",
              "          element.innerHTML = '';\n",
              "          dataTable['output_type'] = 'display_data';\n",
              "          await google.colab.output.renderOutput(dataTable, element);\n",
              "          const docLink = document.createElement('div');\n",
              "          docLink.innerHTML = docLinkHtml;\n",
              "          element.appendChild(docLink);\n",
              "        }\n",
              "      </script>\n",
              "    </div>\n",
              "  </div>\n",
              "  "
            ],
            "text/plain": [
              "   X1  X2  Y\n",
              "0  40  89  0\n",
              "1   1  27  0\n",
              "2  60  63  1\n",
              "3  79  52  1\n",
              "4  88  63  1"
            ]
          },
          "metadata": {},
          "execution_count": 20
        }
      ]
    },
    {
      "cell_type": "code",
      "source": [
        "X11 = scg[\"X1\"].values.tolist()\n",
        "X22 = scg[\"X2\"].values.tolist()\n",
        "Y1 = scg[\"Y\"].values.tolist()\n",
        "\n",
        "for i in range(len(Y1)):\n",
        "    if Y1[i] == 0:\n",
        "        plt.plot(X11[i], X22[i], \"ro\")\n",
        "    else:\n",
        "        plt.plot(X11[i], X22[i], \"bo\")"
      ],
      "metadata": {
        "colab": {
          "base_uri": "https://localhost:8080/",
          "height": 265
        },
        "id": "TJQpWoWUjokU",
        "outputId": "e9b1f3a3-0461-492f-e306-05afb476e25c"
      },
      "execution_count": null,
      "outputs": [
        {
          "output_type": "display_data",
          "data": {
            "image/png": "[encoded data removed]",
            "text/plain": [
              "<Figure size 432x288 with 1 Axes>"
            ]
          },
          "metadata": {
            "needs_background": "light"
          }
        }
      ]
    },
    {
      "cell_type": "code",
      "source": [
        "W1 = [random.random(), random.random()]\n",
        "b1 = random.random()\n",
        "\n",
        "lr1 = 0.08\n",
        "theta1=0.5\n",
        "\n",
        "epoch1 = 0\n",
        "count1 = 0\n",
        "\n",
        "\n",
        "loss1 = []\n",
        "\n",
        "while count1 < len(X11):\n",
        "    \n",
        "    total_error1 = 0\n",
        "    for i in range(len(X11)):\n",
        "        weighted_sum1 = W1[0]*X11[i] + W1[1]*X22[i] + b1\n",
        "        pred1 = 0\n",
        "        if weighted_sum1 > theta1:\n",
        "            pred1 = 1\n",
        "\n",
        "        error1 =  Y1[i] - pred1\n",
        "        if error1 != 0:\n",
        "            count1 = 0\n",
        "            total_error1 += math.sqrt(error1**2)\n",
        "            \n",
        "            W1[0] += lr1 * error1 * X11[i]\n",
        "            W1[1] += lr1 * error1 * X22[i]\n",
        "            b1    += lr1 * error1\n",
        "        else:\n",
        "            count1 += 1\n",
        "    \n",
        "    loss1.append(1/len(X11)*total_error1)\n",
        "    \n",
        "    plt.figure(figsize=(20,5))\n",
        "  \n",
        "    display.clear_output(wait=True)\n",
        "    plt.subplot(1,2,1)\n",
        "\n",
        "    for i in range(len(Y1)):\n",
        "        if Y1[i] == 0:\n",
        "            plt.plot(X11[i], X22[i], \"ro\")\n",
        "        else:\n",
        "            plt.plot(X11[i], X22[i], \"bo\")\n",
        "\n",
        "        plt.xlim([-10, 110])\n",
        "        plt.ylim([-10, 110])\n",
        "\n",
        "        xintr1=(theta1-b1)/W1[0]\n",
        "        yintr1=(theta1-b1)/W1[1]\n",
        "\n",
        "        slope1 = -yintr1/xintr1\n",
        "        xx1 = plt.xlim()\n",
        "\n",
        "        yeq1 = []\n",
        "        for x in xx1:\n",
        "            yeq1.append(slope1*x+yintr1)\n",
        "        plt.plot(xx1,yeq1, 'b-')\n",
        "\n",
        "    plt.title(f\"Epoch: {epoch1} Loss: {total_error1}\")\n",
        "\n",
        "    plt.subplot(1,2,2)\n",
        "    plt.plot(loss1, alpha=0.3)\n",
        "    plt.show()\n",
        "            \n",
        "    print(f\"Epoch: {epoch1} Loss: {loss1[-1]}\")\n",
        "    epoch1 += 1\n"
      ],
      "metadata": {
        "colab": {
          "base_uri": "https://localhost:8080/",
          "height": 272
        },
        "id": "6jlhLc6UlAMP",
        "outputId": "52448dab-9c3e-44ee-cd69-5e79794dde6e"
      },
      "execution_count": null,
      "outputs": [
        {
          "output_type": "display_data",
          "data": {
            "image/png": "[encoded data removed]",
            "text/plain": [
              "<Figure size 1440x360 with 2 Axes>"
            ]
          },
          "metadata": {
            "needs_background": "light"
          }
        },
        {
          "output_type": "stream",
          "name": "stdout",
          "text": [
            "Epoch: 466 Loss: 0.0\n"
          ]
        }
      ]
    },
    {
      "cell_type": "markdown",
      "source": [
        "For the above graph learning rate is taken 0.08. Only for 466 epochs we got the outcome where loss is 0. \n",
        "But when learning rate was 0.5, we got the loss 0 with 515 epochs. When the learning rate was taken 0.25, 0nly for 817 epochs we got the outcome where loss is 0."
      ],
      "metadata": {
        "id": "XvTcRRphenVO"
      }
    },
    {
      "cell_type": "code",
      "source": [
        "thrd = pd.read_csv('/content/third_plot.csv')\n",
        "thrd.head()"
      ],
      "metadata": {
        "id": "QjI_ZE0CmuHZ",
        "colab": {
          "base_uri": "https://localhost:8080/",
          "height": 206
        },
        "outputId": "164c4616-2599-4548-9ef4-6ec19a8e1408"
      },
      "execution_count": null,
      "outputs": [
        {
          "output_type": "execute_result",
          "data": {
            "text/html": [
              "\n",
              "  <div id=\"df-1a68f879-1a1d-425b-a990-085c382575fb\">\n",
              "    <div class=\"colab-df-container\">\n",
              "      <div>\n",
              "<style scoped>\n",
              "    .dataframe tbody tr th:only-of-type {\n",
              "        vertical-align: middle;\n",
              "    }\n",
              "\n",
              "    .dataframe tbody tr th {\n",
              "        vertical-align: top;\n",
              "    }\n",
              "\n",
              "    .dataframe thead th {\n",
              "        text-align: right;\n",
              "    }\n",
              "</style>\n",
              "<table border=\"1\" class=\"dataframe\">\n",
              "  <thead>\n",
              "    <tr style=\"text-align: right;\">\n",
              "      <th></th>\n",
              "      <th>X1</th>\n",
              "      <th>X2</th>\n",
              "      <th>Y</th>\n",
              "    </tr>\n",
              "  </thead>\n",
              "  <tbody>\n",
              "    <tr>\n",
              "      <th>0</th>\n",
              "      <td>95</td>\n",
              "      <td>11</td>\n",
              "      <td>1</td>\n",
              "    </tr>\n",
              "    <tr>\n",
              "      <th>1</th>\n",
              "      <td>93</td>\n",
              "      <td>25</td>\n",
              "      <td>1</td>\n",
              "    </tr>\n",
              "    <tr>\n",
              "      <th>2</th>\n",
              "      <td>98</td>\n",
              "      <td>53</td>\n",
              "      <td>1</td>\n",
              "    </tr>\n",
              "    <tr>\n",
              "      <th>3</th>\n",
              "      <td>44</td>\n",
              "      <td>44</td>\n",
              "      <td>0</td>\n",
              "    </tr>\n",
              "    <tr>\n",
              "      <th>4</th>\n",
              "      <td>77</td>\n",
              "      <td>4</td>\n",
              "      <td>1</td>\n",
              "    </tr>\n",
              "  </tbody>\n",
              "</table>\n",
              "</div>\n",
              "      <button class=\"colab-df-convert\" onclick=\"convertToInteractive('df-1a68f879-1a1d-425b-a990-085c382575fb')\"\n",
              "              title=\"Convert this dataframe to an interactive table.\"\n",
              "              style=\"display:none;\">\n",
              "        \n",
              "  <svg xmlns=\"http://www.w3.org/2000/svg\" height=\"24px\"viewBox=\"0 0 24 24\"\n",
              "       width=\"24px\">\n",
              "    <path d=\"M0 0h24v24H0V0z\" fill=\"none\"/>\n",
              "    <path d=\"M18.56 5.44l.94 2.06.94-2.06 2.06-.94-2.06-.94-.94-2.06-.94 2.06-2.06.94zm-11 1L8.5 8.5l.94-2.06 2.06-.94-2.06-.94L8.5 2.5l-.94 2.06-2.06.94zm10 10l.94 2.06.94-2.06 2.06-.94-2.06-.94-.94-2.06-.94 2.06-2.06.94z\"/><path d=\"M17.41 7.96l-1.37-1.37c-.4-.4-.92-.59-1.43-.59-.52 0-1.04.2-1.43.59L10.3 9.45l-7.72 7.72c-.78.78-.78 2.05 0 2.83L4 21.41c.39.39.9.59 1.41.59.51 0 1.02-.2 1.41-.59l7.78-7.78 2.81-2.81c.8-.78.8-2.07 0-2.86zM5.41 20L4 18.59l7.72-7.72 1.47 1.35L5.41 20z\"/>\n",
              "  </svg>\n",
              "      </button>\n",
              "      \n",
              "  <style>\n",
              "    .colab-df-container {\n",
              "      display:flex;\n",
              "      flex-wrap:wrap;\n",
              "      gap: 12px;\n",
              "    }\n",
              "\n",
              "    .colab-df-convert {\n",
              "      background-color: #E8F0FE;\n",
              "      border: none;\n",
              "      border-radius: 50%;\n",
              "      cursor: pointer;\n",
              "      display: none;\n",
              "      fill: #1967D2;\n",
              "      height: 32px;\n",
              "      padding: 0 0 0 0;\n",
              "      width: 32px;\n",
              "    }\n",
              "\n",
              "    .colab-df-convert:hover {\n",
              "      background-color: #E2EBFA;\n",
              "      box-shadow: 0px 1px 2px rgba(60, 64, 67, 0.3), 0px 1px 3px 1px rgba(60, 64, 67, 0.15);\n",
              "      fill: #174EA6;\n",
              "    }\n",
              "\n",
              "    [theme=dark] .colab-df-convert {\n",
              "      background-color: #3B4455;\n",
              "      fill: #D2E3FC;\n",
              "    }\n",
              "\n",
              "    [theme=dark] .colab-df-convert:hover {\n",
              "      background-color: #434B5C;\n",
              "      box-shadow: 0px 1px 3px 1px rgba(0, 0, 0, 0.15);\n",
              "      filter: drop-shadow(0px 1px 2px rgba(0, 0, 0, 0.3));\n",
              "      fill: #FFFFFF;\n",
              "    }\n",
              "  </style>\n",
              "\n",
              "      <script>\n",
              "        const buttonEl =\n",
              "          document.querySelector('#df-1a68f879-1a1d-425b-a990-085c382575fb button.colab-df-convert');\n",
              "        buttonEl.style.display =\n",
              "          google.colab.kernel.accessAllowed ? 'block' : 'none';\n",
              "\n",
              "        async function convertToInteractive(key) {\n",
              "          const element = document.querySelector('#df-1a68f879-1a1d-425b-a990-085c382575fb');\n",
              "          const dataTable =\n",
              "            await google.colab.kernel.invokeFunction('convertToInteractive',\n",
              "                                                     [key], {});\n",
              "          if (!dataTable) return;\n",
              "\n",
              "          const docLinkHtml = 'Like what you see? Visit the ' +\n",
              "            '<a target=\"_blank\" href=https://colab.research.google.com/notebooks/data_table.ipynb>data table notebook</a>'\n",
              "            + ' to learn more about interactive tables.';\n",
              "          element.innerHTML = '';\n",
              "          dataTable['output_type'] = 'display_data';\n",
              "          await google.colab.output.renderOutput(dataTable, element);\n",
              "          const docLink = document.createElement('div');\n",
              "          docLink.innerHTML = docLinkHtml;\n",
              "          element.appendChild(docLink);\n",
              "        }\n",
              "      </script>\n",
              "    </div>\n",
              "  </div>\n",
              "  "
            ],
            "text/plain": [
              "   X1  X2  Y\n",
              "0  95  11  1\n",
              "1  93  25  1\n",
              "2  98  53  1\n",
              "3  44  44  0\n",
              "4  77   4  1"
            ]
          },
          "metadata": {},
          "execution_count": 6
        }
      ]
    },
    {
      "cell_type": "code",
      "source": [
        "X31 = thrd[\"X1\"].values.tolist()\n",
        "X32 = thrd[\"X2\"].values.tolist()\n",
        "Y3 = thrd[\"Y\"].values.tolist()\n",
        "\n",
        "for i in range(len(Y3)):\n",
        "    if Y3[i] == 0:\n",
        "        plt.plot(X31[i], X32[i], \"ro\")\n",
        "    else:\n",
        "        plt.plot(X31[i], X32[i], \"bo\")"
      ],
      "metadata": {
        "colab": {
          "base_uri": "https://localhost:8080/",
          "height": 265
        },
        "id": "xl8Q7Y2urME1",
        "outputId": "9ff888b1-3938-4248-9813-699718f228cb"
      },
      "execution_count": null,
      "outputs": [
        {
          "output_type": "display_data",
          "data": {
            "image/png": "[encoded data removed]",
            "text/plain": [
              "<Figure size 432x288 with 1 Axes>"
            ]
          },
          "metadata": {
            "needs_background": "light"
          }
        }
      ]
    },
    {
      "cell_type": "code",
      "source": [
        "W2 = [random.random(), random.random()]\n",
        "b2 = random.random()\n",
        "\n",
        "lr2 = 0.6\n",
        "theta2=0.5\n",
        "\n",
        "epoch2 = 0\n",
        "count2 = 0\n",
        "\n",
        "\n",
        "loss2 = []\n",
        "\n",
        "while count2 < len(X31):\n",
        "    \n",
        "    total_error2 = 0\n",
        "    for i in range(len(X31)):\n",
        "        weighted_sum2 = W2[0]*X31[i] + W2[1]*X32[i] + b2\n",
        "        pred2 = 0\n",
        "        if weighted_sum2 > theta2:\n",
        "            pred2 = 1\n",
        "\n",
        "        error2 =  Y3[i] - pred2\n",
        "        if error2 != 0:\n",
        "            count2 = 0\n",
        "            total_error2 += math.sqrt(error2**2)\n",
        "            \n",
        "            W2[0] += lr2 * error2 * X31[i]\n",
        "            W2[1] += lr2 * error2 * X32[i]\n",
        "            b2    += lr2 * error2\n",
        "        else:\n",
        "            count2 += 1\n",
        "    \n",
        "    loss2.append(1/len(X31)*total_error2)\n",
        "    \n",
        "    plt.figure(figsize=(20,5))\n",
        "  \n",
        "    display.clear_output(wait=True)\n",
        "    plt.subplot(1,2,1)\n",
        "\n",
        "    for i in range(len(Y3)):\n",
        "        if Y3[i] == 0:\n",
        "            plt.plot(X31[i], X32[i], \"ro\")\n",
        "        else:\n",
        "            plt.plot(X31[i], X32[i], \"bo\")\n",
        "\n",
        "        plt.xlim([-10, 110])\n",
        "        plt.ylim([-10, 110])\n",
        "\n",
        "        xintr2=(theta2-b2)/W2[0]\n",
        "        yintr2=(theta2-b2)/W2[1]\n",
        "\n",
        "        slope2 = -yintr2/xintr2\n",
        "        xx2 = plt.xlim()\n",
        "\n",
        "        yeq2 = []\n",
        "        for x in xx2:\n",
        "            yeq2.append(slope2*x+yintr2)\n",
        "  \n",
        "        plt.plot(xx2,yeq2, 'b-')\n",
        "\n",
        "\n",
        "    plt.title(f\"Epoch: {epoch2} Loss: {total_error2}\")\n",
        "\n",
        "    plt.subplot(1,2,2)\n",
        "    plt.plot(loss2, alpha=0.3)\n",
        "    plt.show()\n",
        "            \n",
        "    print(f\"Epoch: {epoch2} Loss: {loss2[-1]}\")\n",
        "    if (epoch2 > 1500) and (loss2[-1] != 0):\n",
        "        count = len(X31)\n",
        "        break\n",
        "    else:\n",
        "        epoch2 += 1\n"
      ],
      "metadata": {
        "id": "FKbsiEYxrcQ7",
        "colab": {
          "base_uri": "https://localhost:8080/",
          "height": 272
        },
        "outputId": "374b2b35-1be5-4e66-e90e-a386c2c79ee9"
      },
      "execution_count": null,
      "outputs": [
        {
          "output_type": "display_data",
          "data": {
            "image/png": "[encoded data removed]",
            "text/plain": [
              "<Figure size 1440x360 with 2 Axes>"
            ]
          },
          "metadata": {
            "needs_background": "light"
          }
        },
        {
          "output_type": "stream",
          "name": "stdout",
          "text": [
            "Epoch: 1501 Loss: 0.24242424242424243\n"
          ]
        }
      ]
    },
    {
      "cell_type": "markdown",
      "source": [
        "There is no solution for the above plot. Because we cannot separate the 2 classes using one straight line. And also loss will never equal zero and the loop is endless.\n",
        "\n",
        "Here the learning rate is 0.6. For this plot learning rate 0.2, 0.5 are also apllied to observe the outcome. But for those values, no possible solution is found for this graph. To break the infinite loop, a condition is used. If the loss is not equal to 0 and epochs more than 1500 then the loop will be terminated. "
      ],
      "metadata": {
        "id": "m8UdCGIpEvS0"
      }
    },
    {
      "cell_type": "code",
      "source": [
        ""
      ],
      "metadata": {
        "id": "D7ZVcssTToUI"
      },
      "execution_count": null,
      "outputs": []
    }
  ]
}