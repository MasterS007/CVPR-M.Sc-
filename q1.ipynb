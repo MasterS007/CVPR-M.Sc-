{
  "nbformat": 4,
  "nbformat_minor": 0,
  "metadata": {
    "colab": {
      "name": "q1.ipynb",
      "provenance": [],
      "collapsed_sections": []
    },
    "kernelspec": {
      "name": "python3",
      "display_name": "Python 3"
    },
    "language_info": {
      "name": "python"
    }
  },
  "cells": [
    {
      "cell_type": "markdown",
      "source": [
        "Insertion Sort"
      ],
      "metadata": {
        "id": "5ixaCg6dowTb"
      }
    },
    {
      "cell_type": "code",
      "execution_count": 43,
      "metadata": {
        "id": "f6h9p0INoqyz"
      },
      "outputs": [],
      "source": [
        "A = [5,2,6,7,9,0,1,3,4,8]"
      ]
    },
    {
      "cell_type": "code",
      "source": [
        "print(\"The given array :\", A)\n",
        "def insertion_sort(A):\n",
        "  for index in range(1, len(A)):\n",
        "        currentValue = A[index]\n",
        "        currentPosition = index\n",
        "        print(\"for index \", index, \":\")\n",
        "        print(\"Current Value = \", A[index], \"Current Position =\", index)\n",
        "      \n",
        "        while currentPosition > 0 and A[currentPosition - 1] > currentValue:\n",
        "            A[currentPosition] = A[currentPosition -1]\n",
        "            currentPosition = currentPosition - 1\n",
        "           \n",
        "            print(\"The larger element of current array is\", A[currentPosition - 1], \"which need to be swapped with\", currentValue)\n",
        "            print(\"Now the array\", A)\n",
        "      \n",
        "        A[currentPosition] = currentValue\n",
        "        print(\"After swapping the array :\", A)\n",
        "        print(\"\\n\")"
      ],
      "metadata": {
        "colab": {
          "base_uri": "https://localhost:8080/"
        },
        "id": "Cthu4bZHpS-V",
        "outputId": "6dc3bee8-af0d-4792-9c05-a9f2f744baf9"
      },
      "execution_count": 41,
      "outputs": [
        {
          "output_type": "stream",
          "name": "stdout",
          "text": [
            "The given array : [5, 2, 6, 7, 9, 0, 1, 3, 4, 8]\n"
          ]
        }
      ]
    },
    {
      "cell_type": "code",
      "source": [
        "insertion_sort(A)\n",
        "print(\"sorted List: \" + str(A))"
      ],
      "metadata": {
        "colab": {
          "base_uri": "https://localhost:8080/"
        },
        "id": "rsVL2YeRrtmO",
        "outputId": "94010531-7e59-4c93-c63c-cf16f4fd9854"
      },
      "execution_count": 42,
      "outputs": [
        {
          "output_type": "stream",
          "name": "stdout",
          "text": [
            "for index  1 :\n",
            "Current Value =  2 Current Position = 1\n",
            "The larger element of current array is 8 which need to be swapped with 2\n",
            "Now the array [5, 5, 6, 7, 9, 0, 1, 3, 4, 8]\n",
            "After swapping the array : [2, 5, 6, 7, 9, 0, 1, 3, 4, 8]\n",
            "\n",
            "\n",
            "for index  2 :\n",
            "Current Value =  6 Current Position = 2\n",
            "After swapping the array : [2, 5, 6, 7, 9, 0, 1, 3, 4, 8]\n",
            "\n",
            "\n",
            "for index  3 :\n",
            "Current Value =  7 Current Position = 3\n",
            "After swapping the array : [2, 5, 6, 7, 9, 0, 1, 3, 4, 8]\n",
            "\n",
            "\n",
            "for index  4 :\n",
            "Current Value =  9 Current Position = 4\n",
            "After swapping the array : [2, 5, 6, 7, 9, 0, 1, 3, 4, 8]\n",
            "\n",
            "\n",
            "for index  5 :\n",
            "Current Value =  0 Current Position = 5\n",
            "The larger element of current array is 7 which need to be swapped with 0\n",
            "Now the array [2, 5, 6, 7, 9, 9, 1, 3, 4, 8]\n",
            "The larger element of current array is 6 which need to be swapped with 0\n",
            "Now the array [2, 5, 6, 7, 7, 9, 1, 3, 4, 8]\n",
            "The larger element of current array is 5 which need to be swapped with 0\n",
            "Now the array [2, 5, 6, 6, 7, 9, 1, 3, 4, 8]\n",
            "The larger element of current array is 2 which need to be swapped with 0\n",
            "Now the array [2, 5, 5, 6, 7, 9, 1, 3, 4, 8]\n",
            "The larger element of current array is 8 which need to be swapped with 0\n",
            "Now the array [2, 2, 5, 6, 7, 9, 1, 3, 4, 8]\n",
            "After swapping the array : [0, 2, 5, 6, 7, 9, 1, 3, 4, 8]\n",
            "\n",
            "\n",
            "for index  6 :\n",
            "Current Value =  1 Current Position = 6\n",
            "The larger element of current array is 7 which need to be swapped with 1\n",
            "Now the array [0, 2, 5, 6, 7, 9, 9, 3, 4, 8]\n",
            "The larger element of current array is 6 which need to be swapped with 1\n",
            "Now the array [0, 2, 5, 6, 7, 7, 9, 3, 4, 8]\n",
            "The larger element of current array is 5 which need to be swapped with 1\n",
            "Now the array [0, 2, 5, 6, 6, 7, 9, 3, 4, 8]\n",
            "The larger element of current array is 2 which need to be swapped with 1\n",
            "Now the array [0, 2, 5, 5, 6, 7, 9, 3, 4, 8]\n",
            "The larger element of current array is 0 which need to be swapped with 1\n",
            "Now the array [0, 2, 2, 5, 6, 7, 9, 3, 4, 8]\n",
            "After swapping the array : [0, 1, 2, 5, 6, 7, 9, 3, 4, 8]\n",
            "\n",
            "\n",
            "for index  7 :\n",
            "Current Value =  3 Current Position = 7\n",
            "The larger element of current array is 7 which need to be swapped with 3\n",
            "Now the array [0, 1, 2, 5, 6, 7, 9, 9, 4, 8]\n",
            "The larger element of current array is 6 which need to be swapped with 3\n",
            "Now the array [0, 1, 2, 5, 6, 7, 7, 9, 4, 8]\n",
            "The larger element of current array is 5 which need to be swapped with 3\n",
            "Now the array [0, 1, 2, 5, 6, 6, 7, 9, 4, 8]\n",
            "The larger element of current array is 2 which need to be swapped with 3\n",
            "Now the array [0, 1, 2, 5, 5, 6, 7, 9, 4, 8]\n",
            "After swapping the array : [0, 1, 2, 3, 5, 6, 7, 9, 4, 8]\n",
            "\n",
            "\n",
            "for index  8 :\n",
            "Current Value =  4 Current Position = 8\n",
            "The larger element of current array is 7 which need to be swapped with 4\n",
            "Now the array [0, 1, 2, 3, 5, 6, 7, 9, 9, 8]\n",
            "The larger element of current array is 6 which need to be swapped with 4\n",
            "Now the array [0, 1, 2, 3, 5, 6, 7, 7, 9, 8]\n",
            "The larger element of current array is 5 which need to be swapped with 4\n",
            "Now the array [0, 1, 2, 3, 5, 6, 6, 7, 9, 8]\n",
            "The larger element of current array is 3 which need to be swapped with 4\n",
            "Now the array [0, 1, 2, 3, 5, 5, 6, 7, 9, 8]\n",
            "After swapping the array : [0, 1, 2, 3, 4, 5, 6, 7, 9, 8]\n",
            "\n",
            "\n",
            "for index  9 :\n",
            "Current Value =  8 Current Position = 9\n",
            "The larger element of current array is 7 which need to be swapped with 8\n",
            "Now the array [0, 1, 2, 3, 4, 5, 6, 7, 9, 9]\n",
            "After swapping the array : [0, 1, 2, 3, 4, 5, 6, 7, 8, 9]\n",
            "\n",
            "\n",
            "sorted List: [0, 1, 2, 3, 4, 5, 6, 7, 8, 9]\n"
          ]
        }
      ]
    },
    {
      "cell_type": "markdown",
      "source": [
        "Merge Sort"
      ],
      "metadata": {
        "id": "AHIZsUcpvmZH"
      }
    },
    {
      "cell_type": "code",
      "source": [
        "A = [5,2,6,7,9,0,1,3,4,8]\n",
        "count = 0"
      ],
      "metadata": {
        "id": "DClNXD8Hw4R1"
      },
      "execution_count": 123,
      "outputs": []
    },
    {
      "cell_type": "code",
      "source": [
        "def merge_sort(A, left_index, right_index, count):\n",
        "    if left_index >= right_index:\n",
        "        return\n",
        "    middle = (left_index + right_index)//2\n",
        "    merge_sort(A, left_index, middle, count)\n",
        "    merge_sort(A, middle + 1, right_index, count)\n",
        "    merge(A, left_index, right_index, middle, count)"
      ],
      "metadata": {
        "id": "Z4Bh-0sLrx5C"
      },
      "execution_count": 124,
      "outputs": []
    },
    {
      "cell_type": "code",
      "source": [
        "def merge(A, left_index, right_index, middle, count):\n",
        "    left_copy = A[left_index:middle + 1]\n",
        "    right_copy = A[middle+1:right_index+1]\n",
        "\n",
        "    left_copy_index = 0\n",
        "    right_copy_index = 0\n",
        "    sorted_index = left_index\n",
        "\n",
        "    print(\"\\n left index: \", left_index, \", right index: \", right_index, \" middle: \", middle)\n",
        "    print(\"Now left copy of array: \", left_copy)\n",
        "    print(\"Now right copy of array: \", right_copy)\n",
        "    print(\"sorted index: \", sorted_index)\n",
        "\n",
        "    while left_copy_index < len(left_copy) and right_copy_index < len(right_copy):\n",
        "\n",
        "        if left_copy[left_copy_index] <= right_copy[right_copy_index]:\n",
        "            A[sorted_index] = left_copy[left_copy_index]\n",
        "            left_copy_index = left_copy_index + 1\n",
        "            #print(\"Now array\", A)\n",
        "\n",
        "        else:\n",
        "            A[sorted_index] = right_copy[right_copy_index]\n",
        "            right_copy_index = right_copy_index + 1\n",
        "            #print(\"Now array\", A)\n",
        "\n",
        "        sorted_index = sorted_index + 1\n",
        "        print(\"Now the sorted array\", A)\n",
        "\n",
        "    while left_copy_index < len(left_copy):\n",
        "        A[sorted_index] = left_copy[left_copy_index]\n",
        "        left_copy_index = left_copy_index + 1\n",
        "        sorted_index = sorted_index + 1\n",
        "        #print(\"Now the array\", A)\n",
        "\n",
        "    while right_copy_index < len(right_copy):\n",
        "        A[sorted_index] = right_copy[right_copy_index]\n",
        "        right_copy_index = right_copy_index + 1\n",
        "        sorted_index = sorted_index + 1\n",
        "        #print(\"Now the array\", A)\n",
        "    \n",
        "     "
      ],
      "metadata": {
        "id": "BFN0iRxwv5vb"
      },
      "execution_count": 125,
      "outputs": []
    },
    {
      "cell_type": "code",
      "source": [
        "merge_sort(A, 0, len(A) -1, count)\n",
        "print(\"The sorted list\", A)"
      ],
      "metadata": {
        "colab": {
          "base_uri": "https://localhost:8080/"
        },
        "id": "SQLH3QyywGLX",
        "outputId": "28d03642-0826-4001-f913-92e278f08830"
      },
      "execution_count": 126,
      "outputs": [
        {
          "output_type": "stream",
          "name": "stdout",
          "text": [
            "\n",
            " left index:  0 , right index:  1  middle:  0\n",
            "Now left copy of array:  [5]\n",
            "Now right copy of array:  [2]\n",
            "sorted index:  0\n",
            "Now the sorted array [2, 2, 6, 7, 9, 0, 1, 3, 4, 8]\n",
            "\n",
            " left index:  0 , right index:  2  middle:  1\n",
            "Now left copy of array:  [2, 5]\n",
            "Now right copy of array:  [6]\n",
            "sorted index:  0\n",
            "Now the sorted array [2, 5, 6, 7, 9, 0, 1, 3, 4, 8]\n",
            "Now the sorted array [2, 5, 6, 7, 9, 0, 1, 3, 4, 8]\n",
            "\n",
            " left index:  3 , right index:  4  middle:  3\n",
            "Now left copy of array:  [7]\n",
            "Now right copy of array:  [9]\n",
            "sorted index:  3\n",
            "Now the sorted array [2, 5, 6, 7, 9, 0, 1, 3, 4, 8]\n",
            "\n",
            " left index:  0 , right index:  4  middle:  2\n",
            "Now left copy of array:  [2, 5, 6]\n",
            "Now right copy of array:  [7, 9]\n",
            "sorted index:  0\n",
            "Now the sorted array [2, 5, 6, 7, 9, 0, 1, 3, 4, 8]\n",
            "Now the sorted array [2, 5, 6, 7, 9, 0, 1, 3, 4, 8]\n",
            "Now the sorted array [2, 5, 6, 7, 9, 0, 1, 3, 4, 8]\n",
            "\n",
            " left index:  5 , right index:  6  middle:  5\n",
            "Now left copy of array:  [0]\n",
            "Now right copy of array:  [1]\n",
            "sorted index:  5\n",
            "Now the sorted array [2, 5, 6, 7, 9, 0, 1, 3, 4, 8]\n",
            "\n",
            " left index:  5 , right index:  7  middle:  6\n",
            "Now left copy of array:  [0, 1]\n",
            "Now right copy of array:  [3]\n",
            "sorted index:  5\n",
            "Now the sorted array [2, 5, 6, 7, 9, 0, 1, 3, 4, 8]\n",
            "Now the sorted array [2, 5, 6, 7, 9, 0, 1, 3, 4, 8]\n",
            "\n",
            " left index:  8 , right index:  9  middle:  8\n",
            "Now left copy of array:  [4]\n",
            "Now right copy of array:  [8]\n",
            "sorted index:  8\n",
            "Now the sorted array [2, 5, 6, 7, 9, 0, 1, 3, 4, 8]\n",
            "\n",
            " left index:  5 , right index:  9  middle:  7\n",
            "Now left copy of array:  [0, 1, 3]\n",
            "Now right copy of array:  [4, 8]\n",
            "sorted index:  5\n",
            "Now the sorted array [2, 5, 6, 7, 9, 0, 1, 3, 4, 8]\n",
            "Now the sorted array [2, 5, 6, 7, 9, 0, 1, 3, 4, 8]\n",
            "Now the sorted array [2, 5, 6, 7, 9, 0, 1, 3, 4, 8]\n",
            "\n",
            " left index:  0 , right index:  9  middle:  4\n",
            "Now left copy of array:  [2, 5, 6, 7, 9]\n",
            "Now right copy of array:  [0, 1, 3, 4, 8]\n",
            "sorted index:  0\n",
            "Now the sorted array [0, 5, 6, 7, 9, 0, 1, 3, 4, 8]\n",
            "Now the sorted array [0, 1, 6, 7, 9, 0, 1, 3, 4, 8]\n",
            "Now the sorted array [0, 1, 2, 7, 9, 0, 1, 3, 4, 8]\n",
            "Now the sorted array [0, 1, 2, 3, 9, 0, 1, 3, 4, 8]\n",
            "Now the sorted array [0, 1, 2, 3, 4, 0, 1, 3, 4, 8]\n",
            "Now the sorted array [0, 1, 2, 3, 4, 5, 1, 3, 4, 8]\n",
            "Now the sorted array [0, 1, 2, 3, 4, 5, 6, 3, 4, 8]\n",
            "Now the sorted array [0, 1, 2, 3, 4, 5, 6, 7, 4, 8]\n",
            "Now the sorted array [0, 1, 2, 3, 4, 5, 6, 7, 8, 8]\n",
            "The sorted list [0, 1, 2, 3, 4, 5, 6, 7, 8, 9]\n"
          ]
        }
      ]
    },
    {
      "cell_type": "code",
      "source": [
        ""
      ],
      "metadata": {
        "id": "RdNiuFTBxAi2"
      },
      "execution_count": null,
      "outputs": []
    }
  ]
}